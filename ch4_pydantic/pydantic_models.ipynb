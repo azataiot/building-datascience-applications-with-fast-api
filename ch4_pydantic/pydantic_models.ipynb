{
 "cells": [
  {
   "cell_type": "markdown",
   "source": [
    "## Defining models and their field types with Pydantic"
   ],
   "metadata": {
    "collapsed": false
   }
  },
  {
   "cell_type": "markdown",
   "source": [
    "### Standard field types"
   ],
   "metadata": {
    "collapsed": false
   }
  },
  {
   "cell_type": "code",
   "execution_count": 1,
   "metadata": {
    "collapsed": true
   },
   "outputs": [],
   "source": [
    "import time\n",
    "\n",
    "from pydantic import BaseModel\n",
    "\n",
    "\n",
    "class Person(BaseModel):\n",
    "    first_name: str\n",
    "    last_name: str\n",
    "    age: int"
   ]
  },
  {
   "cell_type": "code",
   "execution_count": 3,
   "outputs": [],
   "source": [
    "from datetime import date\n",
    "from enum import Enum\n",
    "from typing import List\n",
    "\n",
    "from pydantic import BaseModel, ValidationError\n",
    "\n",
    "\n",
    "class Gender(str, Enum):\n",
    "    MALE = \"MALE\"\n",
    "    FEMALE = \"FEMALE\"\n",
    "    NON_BINARY = \"NON_BINARY\"\n",
    "\n",
    "\n",
    "class Person(BaseModel):\n",
    "    first_name: str\n",
    "    last_name: str\n",
    "    age: int\n",
    "    gender: Gender\n",
    "    birthday: date\n",
    "    interests: List[str]"
   ],
   "metadata": {
    "collapsed": false,
    "pycharm": {
     "name": "#%%\n"
    }
   }
  },
  {
   "cell_type": "code",
   "execution_count": 5,
   "outputs": [
    {
     "name": "stdout",
     "output_type": "stream",
     "text": [
      "1 validation error for Person\n",
      "gender\n",
      "  value is not a valid enumeration member; permitted: 'MALE', 'FEMALE', 'NON_BINARY' (type=type_error.enum; enum_values=[<Gender.MALE: 'MALE'>, <Gender.FEMALE: 'FEMALE'>, <Gender.NON_BINARY: 'NON_BINARY'>])\n"
     ]
    }
   ],
   "source": [
    "# invalid gender\n",
    "\n",
    "try:\n",
    "    p = Person(first_name=\"John\", last_name='Doe', age=14, gender='INVALID_VALUE', birthday='1991-01-01',\n",
    "               interests=['sport', 'reading'])\n",
    "except ValidationError as e:\n",
    "    print(str(e))"
   ],
   "metadata": {
    "collapsed": false,
    "pycharm": {
     "name": "#%%\n"
    }
   }
  },
  {
   "cell_type": "code",
   "execution_count": 6,
   "outputs": [
    {
     "name": "stdout",
     "output_type": "stream",
     "text": [
      "2021-12-19\n"
     ]
    }
   ],
   "source": [
    "from datetime import date\n",
    "\n",
    "my_date = date.today()\n",
    "print(my_date.isoformat())"
   ],
   "metadata": {
    "collapsed": false,
    "pycharm": {
     "name": "#%%\n"
    }
   }
  },
  {
   "cell_type": "code",
   "execution_count": 7,
   "outputs": [
    {
     "name": "stdout",
     "output_type": "stream",
     "text": [
      "1 validation error for Person\n",
      "birthday\n",
      "  invalid date format (type=value_error.date)\n"
     ]
    }
   ],
   "source": [
    "try:\n",
    "    p = Person(first_name=\"John\", last_name='Doe', age=14, gender='MALE', birthday='1991-13-01',\n",
    "               interests=['sport', 'reading'])\n",
    "except ValidationError as e:\n",
    "    print(str(e))"
   ],
   "metadata": {
    "collapsed": false,
    "pycharm": {
     "name": "#%%\n"
    }
   }
  },
  {
   "cell_type": "code",
   "execution_count": 9,
   "outputs": [],
   "source": [
    "try:\n",
    "    p = Person(first_name=\"John\", last_name='Doe', age=14, gender='MALE', birthday='1991-11-01',\n",
    "               interests=['sport', 'reading'])\n",
    "except ValidationError as e:\n",
    "    print(str(e))"
   ],
   "metadata": {
    "collapsed": false,
    "pycharm": {
     "name": "#%%\n"
    }
   }
  },
  {
   "cell_type": "code",
   "execution_count": 10,
   "outputs": [
    {
     "data": {
      "text/plain": "Person(first_name='John', last_name='Doe', age=14, gender=<Gender.MALE: 'MALE'>, birthday=datetime.date(1991, 11, 1), interests=['sport', 'reading'])"
     },
     "execution_count": 10,
     "metadata": {},
     "output_type": "execute_result"
    }
   ],
   "source": [
    "p"
   ],
   "metadata": {
    "collapsed": false,
    "pycharm": {
     "name": "#%%\n"
    }
   }
  },
  {
   "cell_type": "code",
   "execution_count": 13,
   "outputs": [],
   "source": [
    "class Address(BaseModel):\n",
    "    street_address: str\n",
    "    postal_code: str\n",
    "    city: str\n",
    "    country: str\n",
    "\n",
    "\n",
    "class Person(BaseModel):\n",
    "    first_name: str\n",
    "    last_name: str\n",
    "    age: int\n",
    "    gender: Gender\n",
    "    birthday: date\n",
    "    address: Address"
   ],
   "metadata": {
    "collapsed": false,
    "pycharm": {
     "name": "#%%\n"
    }
   }
  },
  {
   "cell_type": "code",
   "execution_count": 14,
   "outputs": [],
   "source": [
    "try:\n",
    "    p = Person(first_name=\"John\", last_name='Doe', age=14, gender='MALE', birthday='1991-11-01',\n",
    "               address={\n",
    "                   \"street_address\": 'gabdullin',\n",
    "                   'postal_code': '050040',\n",
    "                   'city': 'Almaty',\n",
    "                   'country': 'KZ'\n",
    "               })\n",
    "except ValidationError as e:\n",
    "    print(str(e))"
   ],
   "metadata": {
    "collapsed": false,
    "pycharm": {
     "name": "#%%\n"
    }
   }
  },
  {
   "cell_type": "code",
   "execution_count": 15,
   "outputs": [
    {
     "data": {
      "text/plain": "Person(first_name='John', last_name='Doe', age=14, gender=<Gender.MALE: 'MALE'>, birthday=datetime.date(1991, 11, 1), address=Address(street_address='gabdullin', postal_code='050040', city='Almaty', country='KZ'))"
     },
     "execution_count": 15,
     "metadata": {},
     "output_type": "execute_result"
    }
   ],
   "source": [
    "p"
   ],
   "metadata": {
    "collapsed": false,
    "pycharm": {
     "name": "#%%\n"
    }
   }
  },
  {
   "cell_type": "markdown",
   "source": [
    "### Optional fields and default values"
   ],
   "metadata": {
    "collapsed": false
   }
  },
  {
   "cell_type": "code",
   "execution_count": 16,
   "outputs": [],
   "source": [
    "from typing import Optional\n",
    "from pydantic import BaseModel\n",
    "\n",
    "\n",
    "class UserProfile(BaseModel):\n",
    "    nickname: str\n",
    "    location: Optional[str] = None\n",
    "    subscribed_newsletter: bool = True\n",
    "\n",
    "\n",
    "user = UserProfile(nickname='Joe')"
   ],
   "metadata": {
    "collapsed": false,
    "pycharm": {
     "name": "#%%\n"
    }
   }
  },
  {
   "cell_type": "code",
   "execution_count": 17,
   "outputs": [
    {
     "data": {
      "text/plain": "UserProfile(nickname='Jdoe', location=None, subscribed_newsletter=True)"
     },
     "execution_count": 17,
     "metadata": {},
     "output_type": "execute_result"
    }
   ],
   "source": [
    "user"
   ],
   "metadata": {
    "collapsed": false,
    "pycharm": {
     "name": "#%%\n"
    }
   }
  },
  {
   "cell_type": "code",
   "execution_count": 19,
   "outputs": [],
   "source": [
    "from datetime import datetime\n",
    "\n",
    "\n",
    "class Model(BaseModel):\n",
    "    # Don;t do this, this example shows you why it doesn't work\n",
    "    d: datetime = datetime.now()\n",
    "\n",
    "\n",
    "o1 = Model()"
   ],
   "metadata": {
    "collapsed": false,
    "pycharm": {
     "name": "#%%\n"
    }
   }
  },
  {
   "cell_type": "code",
   "execution_count": 20,
   "outputs": [
    {
     "data": {
      "text/plain": "Model(d=datetime.datetime(2021, 12, 19, 18, 49, 44, 394293))"
     },
     "execution_count": 20,
     "metadata": {},
     "output_type": "execute_result"
    }
   ],
   "source": [
    "o1"
   ],
   "metadata": {
    "collapsed": false,
    "pycharm": {
     "name": "#%%\n"
    }
   }
  },
  {
   "cell_type": "code",
   "execution_count": 22,
   "outputs": [],
   "source": [
    "import time\n",
    "\n",
    "time.sleep(1)"
   ],
   "metadata": {
    "collapsed": false,
    "pycharm": {
     "name": "#%%\n"
    }
   }
  },
  {
   "cell_type": "code",
   "execution_count": 23,
   "outputs": [],
   "source": [
    "o2 = Model()"
   ],
   "metadata": {
    "collapsed": false,
    "pycharm": {
     "name": "#%%\n"
    }
   }
  },
  {
   "cell_type": "code",
   "execution_count": 24,
   "outputs": [
    {
     "data": {
      "text/plain": "Model(d=datetime.datetime(2021, 12, 19, 18, 49, 44, 394293))"
     },
     "execution_count": 24,
     "metadata": {},
     "output_type": "execute_result"
    }
   ],
   "source": [
    "o2"
   ],
   "metadata": {
    "collapsed": false,
    "pycharm": {
     "name": "#%%\n"
    }
   }
  },
  {
   "cell_type": "code",
   "execution_count": 25,
   "outputs": [
    {
     "name": "stdout",
     "output_type": "stream",
     "text": [
      "False\n"
     ]
    }
   ],
   "source": [
    "print(o1.d < o2.d)"
   ],
   "metadata": {
    "collapsed": false,
    "pycharm": {
     "name": "#%%\n"
    }
   }
  },
  {
   "cell_type": "markdown",
   "source": [
    "Even though we waited for 1 second between the instantiation of o1 and o2, the d datetime is the same!"
   ],
   "metadata": {
    "collapsed": false
   }
  },
  {
   "cell_type": "markdown",
   "source": [
    " Pydantic provides a Fieldfunction that allows us to set some advanced options on our fields, including one to set a factory for creating dynamic values."
   ],
   "metadata": {
    "collapsed": false
   }
  },
  {
   "cell_type": "markdown",
   "source": [
    "### Field validation"
   ],
   "metadata": {
    "collapsed": false
   }
  },
  {
   "cell_type": "code",
   "execution_count": 26,
   "outputs": [],
   "source": [
    "from typing import Optional\n",
    "\n",
    "from pydantic import BaseModel, Field, ValidationError\n",
    "\n",
    "\n",
    "class Person(BaseModel):\n",
    "    first_name: str = Field(..., min_length=3)\n",
    "    last_name: str = Field(..., min_length=3)\n",
    "    age: Optional[int] = Field(None, ge=0, le=150)"
   ],
   "metadata": {
    "collapsed": false,
    "pycharm": {
     "name": "#%%\n"
    }
   }
  },
  {
   "cell_type": "markdown",
   "source": [
    "The first positional argument defines the default value for the field. If the field is required, we use the ellipsis .... Then, the keyword arguments are there to set options for the field, including some basic validation"
   ],
   "metadata": {
    "collapsed": false
   }
  },
  {
   "cell_type": "markdown",
   "source": [
    "### Dynamic default values"
   ],
   "metadata": {
    "collapsed": false
   }
  },
  {
   "cell_type": "code",
   "execution_count": 28,
   "outputs": [],
   "source": [
    "from datetime import datetime\n",
    "from typing import List\n",
    "\n",
    "from pydantic import BaseModel, Field\n",
    "\n",
    "\n",
    "def list_factory():\n",
    "    return [\"a\", \"b\", \"c\"]\n",
    "\n",
    "\n",
    "class Model(BaseModel):\n",
    "    l: List[str] = Field(default_factory=list_factory)\n",
    "    d: datetime = Field(default_factory=datetime.now)\n",
    "    l2: List[str] = Field(default_factory=list)"
   ],
   "metadata": {
    "collapsed": false,
    "pycharm": {
     "name": "#%%\n"
    }
   }
  },
  {
   "cell_type": "markdown",
   "source": [
    "This argument expects you to pass a function that will be called during model instantiation. Thus, the resulting object will be evaluated at runtime each time you create a new object."
   ],
   "metadata": {
    "collapsed": false
   }
  },
  {
   "cell_type": "code",
   "execution_count": 29,
   "outputs": [],
   "source": [
    "m = Model()"
   ],
   "metadata": {
    "collapsed": false,
    "pycharm": {
     "name": "#%%\n"
    }
   }
  },
  {
   "cell_type": "markdown",
   "source": [
    "m"
   ],
   "metadata": {
    "collapsed": false,
    "pycharm": {
     "name": "#%% md\n"
    }
   }
  },
  {
   "cell_type": "code",
   "execution_count": 30,
   "outputs": [
    {
     "data": {
      "text/plain": "Model(l=['a', 'b', 'c'], d=datetime.datetime(2021, 12, 19, 18, 59, 1, 890841), l2=[])"
     },
     "execution_count": 30,
     "metadata": {},
     "output_type": "execute_result"
    }
   ],
   "source": [
    "m"
   ],
   "metadata": {
    "collapsed": false,
    "pycharm": {
     "name": "#%%\n"
    }
   }
  },
  {
   "cell_type": "code",
   "execution_count": 31,
   "outputs": [],
   "source": [
    "m1 = Model()"
   ],
   "metadata": {
    "collapsed": false,
    "pycharm": {
     "name": "#%%\n"
    }
   }
  },
  {
   "cell_type": "code",
   "execution_count": 32,
   "outputs": [
    {
     "data": {
      "text/plain": "Model(l=['a', 'b', 'c'], d=datetime.datetime(2021, 12, 19, 18, 59, 26, 73980), l2=[])"
     },
     "execution_count": 32,
     "metadata": {},
     "output_type": "execute_result"
    }
   ],
   "source": [
    "m1"
   ],
   "metadata": {
    "collapsed": false,
    "pycharm": {
     "name": "#%%\n"
    }
   }
  },
  {
   "cell_type": "markdown",
   "source": [
    "## Validating email address and URLs with Pydantic types"
   ],
   "metadata": {
    "collapsed": false
   }
  },
  {
   "cell_type": "code",
   "execution_count": 33,
   "outputs": [
    {
     "name": "stdout",
     "output_type": "stream",
     "text": [
      "Collecting email-validator\n",
      "  Downloading email_validator-1.1.3-py2.py3-none-any.whl (18 kB)\n",
      "Requirement already satisfied: idna>=2.0.0 in c:\\users\\azat\\developer\\fastapi\\fastapi-data-science\\venv\\lib\\site-packages (from email-validator) (3.3)\n",
      "Collecting dnspython>=1.15.0\n",
      "  Downloading dnspython-2.1.0-py3-none-any.whl (241 kB)\n",
      "Installing collected packages: dnspython, email-validator\n",
      "Successfully installed dnspython-2.1.0 email-validator-1.1.3\n"
     ]
    }
   ],
   "source": [
    "!pip install email-validator"
   ],
   "metadata": {
    "collapsed": false,
    "pycharm": {
     "name": "#%%\n"
    }
   }
  },
  {
   "cell_type": "code",
   "execution_count": 34,
   "outputs": [],
   "source": [
    "from pydantic import BaseModel, EmailStr, HttpUrl, ValidationError\n",
    "\n",
    "\n",
    "class User(BaseModel):\n",
    "    email: EmailStr\n",
    "    website: HttpUrl\n"
   ],
   "metadata": {
    "collapsed": false,
    "pycharm": {
     "name": "#%%\n"
    }
   }
  },
  {
   "cell_type": "code",
   "execution_count": 35,
   "outputs": [
    {
     "name": "stdout",
     "output_type": "stream",
     "text": [
      "1 validation error for User\n",
      "email\n",
      "  value is not a valid email address (type=value_error.email)\n"
     ]
    }
   ],
   "source": [
    "try:\n",
    "    User(email=\"jon\", website='https://azat.ai')\n",
    "except ValidationError as e:\n",
    "    print(e)"
   ],
   "metadata": {
    "collapsed": false,
    "pycharm": {
     "name": "#%%\n"
    }
   }
  },
  {
   "cell_type": "code",
   "execution_count": 36,
   "outputs": [
    {
     "name": "stdout",
     "output_type": "stream",
     "text": [
      "1 validation error for User\n",
      "email\n",
      "  value is not a valid email address (type=value_error.email)\n"
     ]
    }
   ],
   "source": [
    "try:\n",
    "    User(email=\"jon@gmail.\", website='https://azat.ai')\n",
    "except ValidationError as e:\n",
    "    print(e)"
   ],
   "metadata": {
    "collapsed": false,
    "pycharm": {
     "name": "#%%\n"
    }
   }
  },
  {
   "cell_type": "code",
   "execution_count": 37,
   "outputs": [],
   "source": [
    "try:\n",
    "    User(email=\"jon@azat.ai\", website='https://azat.ai')\n",
    "except ValidationError as e:\n",
    "    print(e)"
   ],
   "metadata": {
    "collapsed": false,
    "pycharm": {
     "name": "#%%\n"
    }
   }
  },
  {
   "cell_type": "code",
   "execution_count": 38,
   "outputs": [
    {
     "name": "stdout",
     "output_type": "stream",
     "text": [
      "1 validation error for User\n",
      "website\n",
      "  URL host invalid, top level domain required (type=value_error.url.host)\n"
     ]
    }
   ],
   "source": [
    "try:\n",
    "    User(email=\"jon@azat.ai\", website='https://azat')\n",
    "except ValidationError as e:\n",
    "    print(e)"
   ],
   "metadata": {
    "collapsed": false,
    "pycharm": {
     "name": "#%%\n"
    }
   }
  },
  {
   "cell_type": "markdown",
   "source": [
    "## Creating Model Variations with Class Inheritance"
   ],
   "metadata": {
    "collapsed": false
   }
  },
  {
   "cell_type": "code",
   "execution_count": 39,
   "outputs": [],
   "source": [
    "from pydantic import BaseModel\n",
    "\n",
    "\n",
    "class PostCreate(BaseModel):\n",
    "    title: str\n",
    "    content: str\n",
    "\n",
    "\n",
    "class PostPublic(BaseModel):\n",
    "    id: int\n",
    "    title: str\n",
    "    content: str\n",
    "\n",
    "\n",
    "class PostDB(BaseModel):\n",
    "    id: int\n",
    "    title: str\n",
    "    content: str\n",
    "    nb_views: int = 0"
   ],
   "metadata": {
    "collapsed": false,
    "pycharm": {
     "name": "#%%\n"
    }
   }
  },
  {
   "cell_type": "markdown",
   "source": [
    "PostCreate will be used for a POST endpoint to create a new post. We expect the user to give the title and the content; however, the identifier(ID) will be automatically determined by the database"
   ],
   "metadata": {
    "collapsed": false
   }
  },
  {
   "cell_type": "markdown",
   "source": [
    "PostPublic will be used when we retrieve the data of a post. We want its title and content, of course, but also its associated ID in the database"
   ],
   "metadata": {
    "collapsed": false
   }
  },
  {
   "cell_type": "markdown",
   "source": [
    "PostDB will carry all the data we wish to store in the database. Here, we also want to store the number of views, but we want to keep this secret to make our own statistics internally"
   ],
   "metadata": {
    "collapsed": false
   }
  },
  {
   "cell_type": "code",
   "execution_count": 41,
   "outputs": [],
   "source": [
    "from pydantic import BaseModel\n",
    "\n",
    "\n",
    "class PostBase(BaseModel):\n",
    "    title: str\n",
    "    content: str\n",
    "\n",
    "\n",
    "class PostCreate(PostBase):\n",
    "    pass\n",
    "\n",
    "\n",
    "class PostDB(PostBase):\n",
    "    id: int\n",
    "    views: int = 0\n",
    "\n",
    "\n",
    "class PostPublic(PostBase):\n",
    "    id: int"
   ],
   "metadata": {
    "collapsed": false,
    "pycharm": {
     "name": "#%%\n"
    }
   }
  },
  {
   "cell_type": "markdown",
   "source": [
    "It's also very convenient if you wish to define methods on your model. Remember that Pydantic models are regular Python classes, so you can implement as many methods as you wish!"
   ],
   "metadata": {
    "collapsed": false
   }
  },
  {
   "cell_type": "code",
   "execution_count": 42,
   "outputs": [],
   "source": [
    "class PostBase(BaseModel):\n",
    "    title: str\n",
    "    content: str\n",
    "\n",
    "    def excerpt(self) -> str:\n",
    "        return f\"{self.content[:140]}\""
   ],
   "metadata": {
    "collapsed": false,
    "pycharm": {
     "name": "#%%\n"
    }
   }
  },
  {
   "cell_type": "markdown",
   "source": [
    "## Adding Custom Data Validation With Pydantic"
   ],
   "metadata": {
    "collapsed": false
   }
  },
  {
   "cell_type": "markdown",
   "source": [
    "### Applying validation at a field level\n"
   ],
   "metadata": {
    "collapsed": false
   }
  },
  {
   "cell_type": "code",
   "execution_count": null,
   "outputs": [],
   "source": [],
   "metadata": {
    "collapsed": false,
    "pycharm": {
     "name": "#%%\n"
    }
   }
  }
 ],
 "metadata": {
  "kernelspec": {
   "display_name": "Python 3",
   "language": "python",
   "name": "python3"
  },
  "language_info": {
   "codemirror_mode": {
    "name": "ipython",
    "version": 2
   },
   "file_extension": ".py",
   "mimetype": "text/x-python",
   "name": "python",
   "nbconvert_exporter": "python",
   "pygments_lexer": "ipython2",
   "version": "2.7.6"
  }
 },
 "nbformat": 4,
 "nbformat_minor": 0
}