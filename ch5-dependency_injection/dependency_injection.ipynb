{
 "cells": [
  {
   "cell_type": "markdown",
   "source": [
    "# Dependency Injection in FastAPI"
   ],
   "metadata": {
    "collapsed": false
   }
  },
  {
   "cell_type": "markdown",
   "source": [
    "- authentication system\n",
    "- query parameters' validator\n",
    "- rate-limiter"
   ],
   "metadata": {
    "collapsed": false
   }
  },
  {
   "cell_type": "markdown",
   "source": [
    "In FastAPI a dependency injection can even call another one recursively"
   ],
   "metadata": {
    "collapsed": false
   }
  },
  {
   "cell_type": "markdown",
   "source": [
    "## What is dependency injection?"
   ],
   "metadata": {
    "collapsed": false
   }
  },
  {
   "cell_type": "markdown",
   "source": [
    "Generally speaking, dependency injection is a system able to automatically instantiate objects and the ones they depend on."
   ],
   "metadata": {
    "collapsed": false
   }
  },
  {
   "cell_type": "code",
   "execution_count": 1,
   "outputs": [],
   "source": [
    "from fastapi import FastAPI, Header\n",
    "\n",
    "app = FastAPI()\n",
    "\n",
    "\n",
    "@app.get(\"/\")\n",
    "async def header(user_agent: str = Header(...)):\n",
    "    return {\n",
    "        \"user_agent\": user_agent\n",
    "    }"
   ],
   "metadata": {
    "collapsed": false,
    "pycharm": {
     "name": "#%%\n"
    }
   }
  },
  {
   "cell_type": "code",
   "execution_count": 3,
   "outputs": [],
   "source": [
    "import nest_asyncio\n",
    "import uvicorn\n",
    "\n",
    "nest_asyncio.apply()"
   ],
   "metadata": {
    "collapsed": false,
    "pycharm": {
     "name": "#%%\n"
    }
   }
  },
  {
   "cell_type": "code",
   "execution_count": 4,
   "outputs": [
    {
     "name": "stderr",
     "output_type": "stream",
     "text": [
      "INFO:     Started server process [38307]\n",
      "INFO:     Waiting for application startup.\n",
      "INFO:     Application startup complete.\n",
      "INFO:     Uvicorn running on http://0.0.0.0:8000 (Press CTRL+C to quit)\n"
     ]
    },
    {
     "name": "stdout",
     "output_type": "stream",
     "text": [
      "INFO:     127.0.0.1:60576 - \"POST /posts HTTP/1.1\" 404 Not Found\n",
      "INFO:     127.0.0.1:60580 - \"POST / HTTP/1.1\" 405 Method Not Allowed\n",
      "INFO:     127.0.0.1:60580 - \"GET / HTTP/1.1\" 200 OK\n",
      "INFO:     127.0.0.1:60617 - \"GET /docs HTTP/1.1\" 200 OK\n",
      "INFO:     127.0.0.1:60617 - \"GET /openapi.json HTTP/1.1\" 200 OK\n",
      "INFO:     127.0.0.1:60618 - \"GET / HTTP/1.1\" 200 OK\n"
     ]
    },
    {
     "name": "stderr",
     "output_type": "stream",
     "text": [
      "INFO:     Shutting down\n",
      "INFO:     Waiting for application shutdown.\n",
      "INFO:     Application shutdown complete.\n",
      "INFO:     Finished server process [38307]\n"
     ]
    }
   ],
   "source": [
    "if __name__ == \"__main__\":\n",
    "    uvicorn.run(app, host=\"0.0.0.0\", port=8000)"
   ],
   "metadata": {
    "collapsed": false,
    "pycharm": {
     "name": "#%%\n"
    }
   }
  },
  {
   "cell_type": "markdown",
   "source": [
    "![uk6VMU](https://raw.githubusercontent.com/azataiot/images/master/2021/12/20/uk6VMU.png)"
   ],
   "metadata": {
    "collapsed": false
   }
  },
  {
   "cell_type": "markdown",
   "source": [
    "Internally, the Header function has some logic to automatically get the request object, check for the required header, return its value, or raise an error if it's not present. From the developer's perspective, however, we don't know how it handled the required objects for this operation: we just ask for the value we need. That's dependency injection."
   ],
   "metadata": {
    "collapsed": false
   }
  },
  {
   "cell_type": "markdown",
   "source": [
    "## Creating and using a function dependency\n",
    "In FastAPI, a dependency can be defined either as a function or as a callable class"
   ],
   "metadata": {
    "collapsed": false
   }
  },
  {
   "cell_type": "code",
   "execution_count": 5,
   "outputs": [],
   "source": [
    "from fastapi import Depends\n",
    "\n",
    "app = FastAPI()\n",
    "from typing import Tuple\n",
    "\n",
    "\n",
    "async def pagination(skip: int = 0, limit: int = 10) -> Tuple[int, int]:\n",
    "    return skip, limit\n",
    "\n",
    "\n",
    "@app.get(\"/items\")\n",
    "async def list_items(p: Tuple[int, int] = Depends(pagination)):\n",
    "    skip, limit = p\n",
    "    return {\n",
    "        \"skip\": skip,\n",
    "        \"limit\": limit\n",
    "    }"
   ],
   "metadata": {
    "collapsed": false,
    "pycharm": {
     "name": "#%%\n"
    }
   }
  },
  {
   "cell_type": "code",
   "execution_count": 6,
   "outputs": [
    {
     "name": "stderr",
     "output_type": "stream",
     "text": [
      "INFO:     Started server process [38307]\n",
      "INFO:     Waiting for application startup.\n",
      "INFO:     Application startup complete.\n",
      "INFO:     Uvicorn running on http://0.0.0.0:8000 (Press CTRL+C to quit)\n"
     ]
    },
    {
     "name": "stdout",
     "output_type": "stream",
     "text": [
      "INFO:     127.0.0.1:60932 - \"GET / HTTP/1.1\" 404 Not Found\n",
      "INFO:     127.0.0.1:60932 - \"GET /items/ HTTP/1.1\" 307 Temporary Redirect\n",
      "INFO:     127.0.0.1:60932 - \"GET /items HTTP/1.1\" 200 OK\n",
      "INFO:     127.0.0.1:60938 - \"GET /items/?skip=5 HTTP/1.1\" 307 Temporary Redirect\n",
      "INFO:     127.0.0.1:60938 - \"GET /items?skip=5 HTTP/1.1\" 200 OK\n",
      "INFO:     127.0.0.1:60944 - \"GET /items/?limit=30&skip=5 HTTP/1.1\" 307 Temporary Redirect\n",
      "INFO:     127.0.0.1:60944 - \"GET /items?limit=30&skip=5 HTTP/1.1\" 200 OK\n"
     ]
    },
    {
     "name": "stderr",
     "output_type": "stream",
     "text": [
      "INFO:     Shutting down\n",
      "INFO:     Waiting for application shutdown.\n",
      "INFO:     Application shutdown complete.\n",
      "INFO:     Finished server process [38307]\n"
     ]
    }
   ],
   "source": [
    "if __name__ == \"__main__\":\n",
    "    uvicorn.run(app, host=\"0.0.0.0\", port=8000)"
   ],
   "metadata": {
    "collapsed": false,
    "pycharm": {
     "name": "#%%\n"
    }
   }
  },
  {
   "cell_type": "markdown",
   "source": [
    "![CleanShot2021-12-20at18.50.00](https://raw.githubusercontent.com/azataiot/images/master/2021/12/20/CleanShot%202021-12-20%20at%2018.50.00.png)"
   ],
   "metadata": {
    "collapsed": false
   }
  },
  {
   "cell_type": "markdown",
   "source": [
    "## Creating an using a parameterized dependency with a class"
   ],
   "metadata": {
    "collapsed": false
   }
  },
  {
   "cell_type": "markdown",
   "source": [
    "## Using dependency at a path, router, and global level"
   ],
   "metadata": {
    "collapsed": false
   }
  },
  {
   "cell_type": "code",
   "execution_count": null,
   "metadata": {
    "collapsed": true
   },
   "outputs": [],
   "source": []
  }
 ],
 "metadata": {
  "kernelspec": {
   "display_name": "Python 3",
   "language": "python",
   "name": "python3"
  },
  "language_info": {
   "codemirror_mode": {
    "name": "ipython",
    "version": 2
   },
   "file_extension": ".py",
   "mimetype": "text/x-python",
   "name": "python",
   "nbconvert_exporter": "python",
   "pygments_lexer": "ipython2",
   "version": "2.7.6"
  }
 },
 "nbformat": 4,
 "nbformat_minor": 0
}