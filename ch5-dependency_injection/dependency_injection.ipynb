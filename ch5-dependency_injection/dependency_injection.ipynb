{
 "cells": [
  {
   "cell_type": "markdown",
   "source": [
    "# Dependency Injection in FastAPI"
   ],
   "metadata": {
    "collapsed": false
   }
  },
  {
   "cell_type": "markdown",
   "source": [
    "- authentication system\n",
    "- query parameters' validator\n",
    "- rate-limiter"
   ],
   "metadata": {
    "collapsed": false
   }
  },
  {
   "cell_type": "markdown",
   "source": [
    "In FastAPI a dependency injection can even call another one recursively"
   ],
   "metadata": {
    "collapsed": false
   }
  },
  {
   "cell_type": "markdown",
   "source": [
    "## What is dependency injection?"
   ],
   "metadata": {
    "collapsed": false
   }
  },
  {
   "cell_type": "markdown",
   "source": [
    "Generally speaking, dependency injection is a system able to automatically instantiate objects and the ones they depend on."
   ],
   "metadata": {
    "collapsed": false
   }
  },
  {
   "cell_type": "code",
   "execution_count": 1,
   "outputs": [],
   "source": [
    "from fastapi import FastAPI, Header\n",
    "\n",
    "app = FastAPI()\n",
    "\n",
    "\n",
    "@app.get(\"/\")\n",
    "async def header(user_agent: str = Header(...)):\n",
    "    return {\n",
    "        \"user_agent\": user_agent\n",
    "    }"
   ],
   "metadata": {
    "collapsed": false,
    "pycharm": {
     "name": "#%%\n"
    }
   }
  },
  {
   "cell_type": "code",
   "execution_count": 3,
   "outputs": [],
   "source": [
    "import nest_asyncio\n",
    "import uvicorn\n",
    "\n",
    "nest_asyncio.apply()"
   ],
   "metadata": {
    "collapsed": false,
    "pycharm": {
     "name": "#%%\n"
    }
   }
  },
  {
   "cell_type": "code",
   "execution_count": 4,
   "outputs": [
    {
     "name": "stderr",
     "output_type": "stream",
     "text": [
      "INFO:     Started server process [38307]\n",
      "INFO:     Waiting for application startup.\n",
      "INFO:     Application startup complete.\n",
      "INFO:     Uvicorn running on http://0.0.0.0:8000 (Press CTRL+C to quit)\n"
     ]
    },
    {
     "name": "stdout",
     "output_type": "stream",
     "text": [
      "INFO:     127.0.0.1:60576 - \"POST /posts HTTP/1.1\" 404 Not Found\n",
      "INFO:     127.0.0.1:60580 - \"POST / HTTP/1.1\" 405 Method Not Allowed\n",
      "INFO:     127.0.0.1:60580 - \"GET / HTTP/1.1\" 200 OK\n",
      "INFO:     127.0.0.1:60617 - \"GET /docs HTTP/1.1\" 200 OK\n",
      "INFO:     127.0.0.1:60617 - \"GET /openapi.json HTTP/1.1\" 200 OK\n",
      "INFO:     127.0.0.1:60618 - \"GET / HTTP/1.1\" 200 OK\n"
     ]
    },
    {
     "name": "stderr",
     "output_type": "stream",
     "text": [
      "INFO:     Shutting down\n",
      "INFO:     Waiting for application shutdown.\n",
      "INFO:     Application shutdown complete.\n",
      "INFO:     Finished server process [38307]\n"
     ]
    }
   ],
   "source": [
    "if __name__ == \"__main__\":\n",
    "    uvicorn.run(app, host=\"0.0.0.0\", port=8000)"
   ],
   "metadata": {
    "collapsed": false,
    "pycharm": {
     "name": "#%%\n"
    }
   }
  },
  {
   "cell_type": "markdown",
   "source": [
    "![uk6VMU](https://raw.githubusercontent.com/azataiot/images/master/2021/12/20/uk6VMU.png)"
   ],
   "metadata": {
    "collapsed": false
   }
  },
  {
   "cell_type": "markdown",
   "source": [
    "Internally, the Header function has some logic to automatically get the request object, check for the required header, return its value, or raise an error if it's not present. From the developer's perspective, however, we don't know how it handled the required objects for this operation: we just ask for the value we need. That's dependency injection."
   ],
   "metadata": {
    "collapsed": false
   }
  },
  {
   "cell_type": "markdown",
   "source": [
    "## Creating and using a function dependency\n",
    "In FastAPI, a dependency can be defined either as a function or as a callable class"
   ],
   "metadata": {
    "collapsed": false
   }
  },
  {
   "cell_type": "code",
   "execution_count": 5,
   "outputs": [],
   "source": [
    "from fastapi import Depends\n",
    "\n",
    "app = FastAPI()\n",
    "from typing import Tuple\n",
    "\n",
    "\n",
    "async def pagination(skip: int = 0, limit: int = 10) -> Tuple[int, int]:\n",
    "    return skip, limit\n",
    "\n",
    "\n",
    "@app.get(\"/items\")\n",
    "async def list_items(p: Tuple[int, int] = Depends(pagination)):\n",
    "    skip, limit = p\n",
    "    return {\n",
    "        \"skip\": skip,\n",
    "        \"limit\": limit\n",
    "    }"
   ],
   "metadata": {
    "collapsed": false,
    "pycharm": {
     "name": "#%%\n"
    }
   }
  },
  {
   "cell_type": "code",
   "execution_count": 6,
   "outputs": [
    {
     "name": "stderr",
     "output_type": "stream",
     "text": [
      "INFO:     Started server process [38307]\n",
      "INFO:     Waiting for application startup.\n",
      "INFO:     Application startup complete.\n",
      "INFO:     Uvicorn running on http://0.0.0.0:8000 (Press CTRL+C to quit)\n"
     ]
    },
    {
     "name": "stdout",
     "output_type": "stream",
     "text": [
      "INFO:     127.0.0.1:60932 - \"GET / HTTP/1.1\" 404 Not Found\n",
      "INFO:     127.0.0.1:60932 - \"GET /items/ HTTP/1.1\" 307 Temporary Redirect\n",
      "INFO:     127.0.0.1:60932 - \"GET /items HTTP/1.1\" 200 OK\n",
      "INFO:     127.0.0.1:60938 - \"GET /items/?skip=5 HTTP/1.1\" 307 Temporary Redirect\n",
      "INFO:     127.0.0.1:60938 - \"GET /items?skip=5 HTTP/1.1\" 200 OK\n",
      "INFO:     127.0.0.1:60944 - \"GET /items/?limit=30&skip=5 HTTP/1.1\" 307 Temporary Redirect\n",
      "INFO:     127.0.0.1:60944 - \"GET /items?limit=30&skip=5 HTTP/1.1\" 200 OK\n"
     ]
    },
    {
     "name": "stderr",
     "output_type": "stream",
     "text": [
      "INFO:     Shutting down\n",
      "INFO:     Waiting for application shutdown.\n",
      "INFO:     Application shutdown complete.\n",
      "INFO:     Finished server process [38307]\n"
     ]
    }
   ],
   "source": [
    "if __name__ == \"__main__\":\n",
    "    uvicorn.run(app, host=\"0.0.0.0\", port=8000)"
   ],
   "metadata": {
    "collapsed": false,
    "pycharm": {
     "name": "#%%\n"
    }
   }
  },
  {
   "cell_type": "markdown",
   "source": [
    "![CleanShot2021-12-20at18.50.00](https://raw.githubusercontent.com/azataiot/images/master/2021/12/20/CleanShot%202021-12-20%20at%2018.50.00.png)"
   ],
   "metadata": {
    "collapsed": false
   }
  },
  {
   "cell_type": "markdown",
   "source": [
    "Actually dependency is also for resuing. as soon as we have the same filters on other pages of the website, we can just pass the same dependency and that is all, we do not have to repeat ourselves then.\n"
   ],
   "metadata": {
    "collapsed": false
   }
  },
  {
   "cell_type": "markdown",
   "source": [],
   "metadata": {
    "collapsed": false
   }
  },
  {
   "cell_type": "code",
   "execution_count": 4,
   "outputs": [],
   "source": [
    "from fastapi import FastAPI, Depends\n",
    "\n",
    "app = FastAPI()\n",
    "from typing import Tuple\n",
    "\n",
    "\n",
    "async def pagination(skip: int = 0, limit: int = 10) -> Tuple[int, int]:\n",
    "    return skip, limit\n",
    "\n",
    "\n",
    "@app.get(\"/items\")\n",
    "async def list_items(p: Tuple[int, int] = Depends(pagination)):\n",
    "    skip, limit = p\n",
    "    return {\n",
    "        \"skip\": skip,\n",
    "        'limit': limit\n",
    "    }\n",
    "\n",
    "\n",
    "@app.get(\"/settings\")\n",
    "async def list_settings(p: Tuple[int, int] = Depends(pagination)):\n",
    "    skip, limit = p\n",
    "    return {\n",
    "        \"skip\": skip,\n",
    "        'limit': limit\n",
    "    }"
   ],
   "metadata": {
    "collapsed": false,
    "pycharm": {
     "name": "#%%\n"
    }
   }
  },
  {
   "cell_type": "code",
   "execution_count": 5,
   "outputs": [],
   "source": [
    "from fastapi import Query\n",
    "\n",
    "\n",
    "async def pagination(\n",
    "        skip: int = Query(0, ge=0),\n",
    "        # default value is 0 , ge=0 also makes sure that we only receive tha positive integers.\n",
    "        limit: int = Query(10, ge=0),  # default value is 10\n",
    ") -> Tuple[int, int]:\n",
    "    capped_limit = min(100, limit)  # the maximum value for limit is 100 now.\n",
    "    return skip, capped_limit"
   ],
   "metadata": {
    "collapsed": false,
    "pycharm": {
     "name": "#%%\n"
    }
   }
  },
  {
   "cell_type": "markdown",
   "source": [],
   "metadata": {
    "collapsed": false
   }
  },
  {
   "cell_type": "markdown",
   "source": [
    "### Get an Object or raise a 404 error\n",
    "\n",
    "same logic for :\n",
    "\n",
    "- get\n",
    "- update\n",
    "- delete\n",
    "\n",
    "try to retrieve tha object in the database or raise an error 404 if it dose not exist."
   ],
   "metadata": {
    "collapsed": false
   }
  },
  {
   "cell_type": "code",
   "execution_count": 6,
   "outputs": [],
   "source": [
    "from fastapi import HTTPException, status\n",
    "\n",
    "\n",
    "class Post:\n",
    "    pass\n",
    "\n",
    "\n",
    "db = {}\n",
    "\n",
    "\n",
    "async def get_post_or_404(uid: int) -> Post:\n",
    "    try:\n",
    "        return db.posts[id]\n",
    "    except KeyError:\n",
    "        raise HTTPException(status_code=status.HTTP_404_NOT_FOUND)"
   ],
   "metadata": {
    "collapsed": false,
    "pycharm": {
     "name": "#%%\n"
    }
   }
  },
  {
   "cell_type": "markdown",
   "source": [
    "Another typical example for the Dependency is authentication."
   ],
   "metadata": {
    "collapsed": false
   }
  },
  {
   "cell_type": "code",
   "execution_count": null,
   "outputs": [],
   "source": [
    "app = FastAPI()\n",
    "\n",
    "\n",
    "class PostUpdate:\n",
    "    pass\n",
    "\n",
    "\n",
    "@app.get(\"posts/{post_id}\")\n",
    "async def get_post(post: Post = Depends(get_post_or_404)):\n",
    "    return Post\n",
    "\n",
    "\n",
    "@app.patch(\"posts/{post_id}\")\n",
    "async def update_post(post_update: PostUpdate, post: Post = Depends(get_post_or_404)):\n",
    "    updated_post = post.copy(update=post_update.dict())\n",
    "    db.posts[post.id] = updated_post\n",
    "    return updated_post\n",
    "\n",
    "\n",
    "@app.delete(\"/posts/{id}\", status_code=status.HTTP_204_NO_CONTENT)\n",
    "async def delete_post(post: Post = Depends(get_post_or_404)):\n",
    "    db.posts.pop(post.id)"
   ],
   "metadata": {
    "collapsed": false,
    "pycharm": {
     "name": "#%%\n"
    }
   }
  },
  {
   "cell_type": "markdown",
   "source": [],
   "metadata": {
    "collapsed": false,
    "pycharm": {
     "name": "#%% md\n"
    }
   }
  },
  {
   "cell_type": "markdown",
   "source": [
    "## Creating and using a parameterized dependency with a class"
   ],
   "metadata": {
    "collapsed": false
   }
  },
  {
   "cell_type": "code",
   "execution_count": 3,
   "outputs": [],
   "source": [
    "from fastapi import FastAPI, Query, Depends\n",
    "from typing import Tuple\n",
    "\n",
    "\n",
    "class Pagination:\n",
    "    def __init__(self, maximum_limit: int = 100):\n",
    "        self.maximum_limit = maximum_limit\n",
    "\n",
    "    async def __call__(self,\n",
    "                       skip: int = Query(0, ge=0),\n",
    "                       limit: int = Query(10, ge=0)\n",
    "                       ) -> Tuple[int, int]:\n",
    "        capped_limit = min(self.maximum_limit, limit)\n",
    "        return skip, capped_limit"
   ],
   "metadata": {
    "collapsed": false,
    "pycharm": {
     "name": "#%%\n"
    }
   }
  },
  {
   "cell_type": "code",
   "execution_count": 4,
   "outputs": [],
   "source": [
    "pagination = Pagination(maximum_limit=50)"
   ],
   "metadata": {
    "collapsed": false,
    "pycharm": {
     "name": "#%%\n"
    }
   }
  },
  {
   "cell_type": "code",
   "execution_count": 5,
   "outputs": [],
   "source": [
    "\n",
    "\n",
    "app = FastAPI()\n",
    "\n",
    "\n",
    "@app.get(\"/items\")\n",
    "async def list_items(p: Tuple[int, int] = Depends(pagination)):\n",
    "    skip, limit = p\n",
    "    return {\n",
    "        \"skip\": skip,\n",
    "        'limit': limit\n",
    "    }"
   ],
   "metadata": {
    "collapsed": false,
    "pycharm": {
     "name": "#%%\n"
    }
   }
  },
  {
   "cell_type": "markdown",
   "source": [
    "Use class methods as dependencies\n"
   ],
   "metadata": {
    "collapsed": false
   }
  },
  {
   "cell_type": "code",
   "execution_count": 6,
   "outputs": [],
   "source": [
    "class Pagination:\n",
    "    def __init__(self, maximum_limit: int = 100):\n",
    "        self.maximum_limit = maximum_limit\n",
    "\n",
    "    async def skip_limit(self,\n",
    "                         skip: int = Query(0, ge=0),\n",
    "                         limit: int = Query(10, ge=0)\n",
    "                         ) -> Tuple[int, int]:\n",
    "        capped_limit = min(self.maximum_limit, limit)\n",
    "        return skip, capped_limit\n",
    "\n",
    "    async def page_size(self,\n",
    "                        page: int = Query(1, ge=1),\n",
    "                        size: int = Query(10, ge=10)\n",
    "                        ) -> Tuple[int, int]:\n",
    "        capped_size = min(self.maximum_limit, size)\n",
    "        return page, capped_size"
   ],
   "metadata": {
    "collapsed": false,
    "pycharm": {
     "name": "#%%\n"
    }
   }
  },
  {
   "cell_type": "code",
   "execution_count": 8,
   "outputs": [],
   "source": [
    "pagination = Pagination(maximum_limit=50)\n",
    "\n",
    "\n",
    "@app.get(\"/items\")\n",
    "async def list_items(p: Tuple[int, int] = Depends(pagination.skip_limit)):\n",
    "    skip, limit = p\n",
    "    return {\"skip\": skip, \"limit\": limit}\n",
    "\n",
    "\n",
    "@app.get(\"/things\")\n",
    "async def list_things(p: Tuple[int, int] = Depends(pagination.page_size)):\n",
    "    page, size = p\n",
    "    return {\"page\": page, \"size\": size}"
   ],
   "metadata": {
    "collapsed": false,
    "pycharm": {
     "name": "#%%\n"
    }
   }
  },
  {
   "cell_type": "code",
   "execution_count": null,
   "outputs": [],
   "source": [],
   "metadata": {
    "collapsed": false,
    "pycharm": {
     "name": "#%%\n"
    }
   }
  },
  {
   "cell_type": "markdown",
   "source": [
    "## Using dependency at a path, router, and global level"
   ],
   "metadata": {
    "collapsed": false
   }
  },
  {
   "cell_type": "code",
   "execution_count": 9,
   "outputs": [],
   "source": [
    "from typing import Optional, Tuple\n",
    "from fastapi import FastAPI, Depends, Header, Query\n",
    "\n",
    "\n",
    "def secret_header(secret_header: Optional[str] = Header(None)) -> None:\n",
    "    if not secret_header or secret_header != \"SECRET_VALUE\":\n",
    "        raise HTTPException(status.HTTP_403_FORBIDDEN)"
   ],
   "metadata": {
    "collapsed": false,
    "pycharm": {
     "name": "#%%\n"
    }
   }
  },
  {
   "cell_type": "markdown",
   "source": [
    "### Use dependency on a path decorator"
   ],
   "metadata": {
    "collapsed": false
   }
  },
  {
   "cell_type": "code",
   "execution_count": 10,
   "outputs": [],
   "source": [
    "app = FastAPI()\n",
    "\n",
    "\n",
    "@app.get(\"/protected-route\", dependencies=[Depends(secret_header)])\n",
    "async def protected_route():\n",
    "    return {\n",
    "        \"hello\": \"world!\"\n",
    "    }"
   ],
   "metadata": {
    "collapsed": false,
    "pycharm": {
     "name": "#%%\n"
    }
   }
  },
  {
   "cell_type": "code",
   "execution_count": null,
   "outputs": [],
   "source": [],
   "metadata": {
    "collapsed": false,
    "pycharm": {
     "name": "#%%\n"
    }
   }
  },
  {
   "cell_type": "markdown",
   "source": [
    "### Use a dependency on a whole route"
   ],
   "metadata": {
    "collapsed": false
   }
  },
  {
   "cell_type": "code",
   "execution_count": null,
   "outputs": [],
   "source": [
    "from fastapi import APIRouter\n",
    "\n",
    "app = FastAPI()\n",
    "\n",
    "router = APIRouter(dependencies=[Depends(secret_header)])\n",
    "\n",
    "\n",
    "@router.get(\"/r1\")\n",
    "async def r1():\n",
    "    return {}\n",
    "\n",
    "\n",
    "@router.get(\"/r2\")\n",
    "async def r2():\n",
    "    return {}\n",
    "\n",
    "\n",
    "app.include_router(router, prefix=\"/router\")"
   ],
   "metadata": {
    "collapsed": false,
    "pycharm": {
     "name": "#%%\n"
    }
   }
  },
  {
   "cell_type": "markdown",
   "source": [
    "OR"
   ],
   "metadata": {
    "collapsed": false
   }
  },
  {
   "cell_type": "code",
   "execution_count": 11,
   "outputs": [],
   "source": [
    "from fastapi import APIRouter\n",
    "\n",
    "app = FastAPI()\n",
    "\n",
    "router = APIRouter()\n",
    "\n",
    "\n",
    "@router.get(\"/r1\")\n",
    "async def r1():\n",
    "    return {}\n",
    "\n",
    "\n",
    "@router.get(\"/r2\")\n",
    "async def r2():\n",
    "    return {}\n",
    "\n",
    "\n",
    "app.include_router(router, prefix=\"/router\",dependencies=[Depends(secret_header)])"
   ],
   "metadata": {
    "collapsed": false,
    "pycharm": {
     "name": "#%%\n"
    }
   }
  },
  {
   "cell_type": "code",
   "execution_count": null,
   "outputs": [],
   "source": [],
   "metadata": {
    "collapsed": false,
    "pycharm": {
     "name": "#%%\n"
    }
   }
  },
  {
   "cell_type": "markdown",
   "source": [
    "### Use a dependency in a whole application"
   ],
   "metadata": {
    "collapsed": false
   }
  },
  {
   "cell_type": "code",
   "execution_count": 12,
   "outputs": [],
   "source": [
    "app = FastAPI(dependencies=[Depends(secret_header)])"
   ],
   "metadata": {
    "collapsed": false,
    "pycharm": {
     "name": "#%%\n"
    }
   }
  },
  {
   "cell_type": "markdown",
   "source": [
    "![CleanShot2021-12-22at14.37.46](https://raw.githubusercontent.com/azataiot/images/master/2021/12/22/CleanShot%202021-12-22%20at%2014.37.46.png)"
   ],
   "metadata": {
    "collapsed": false
   }
  },
  {
   "cell_type": "code",
   "execution_count": null,
   "outputs": [],
   "source": [],
   "metadata": {
    "collapsed": false,
    "pycharm": {
     "name": "#%%\n"
    }
   }
  }
 ],
 "metadata": {
  "kernelspec": {
   "display_name": "Python 3",
   "language": "python",
   "name": "python3"
  },
  "language_info": {
   "codemirror_mode": {
    "name": "ipython",
    "version": 2
   },
   "file_extension": ".py",
   "mimetype": "text/x-python",
   "name": "python",
   "nbconvert_exporter": "python",
   "pygments_lexer": "ipython2",
   "version": "2.7.6"
  }
 },
 "nbformat": 4,
 "nbformat_minor": 0
}