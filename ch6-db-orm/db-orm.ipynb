{
 "cells": [
  {
   "cell_type": "markdown",
   "source": [
    "# Databases and ORM"
   ],
   "metadata": {
    "collapsed": false
   }
  },
  {
   "cell_type": "markdown",
   "source": [
    "## Relational Database"
   ],
   "metadata": {
    "collapsed": false
   }
  },
  {
   "cell_type": "markdown",
   "source": [
    "A key in the same table that is a primary key, if we reference this key on another table, then that is a foreign key.\n"
   ],
   "metadata": {
    "collapsed": false
   }
  },
  {
   "cell_type": "markdown",
   "source": [
    "![blog](https://raw.githubusercontent.com/azataiot/images/master/2021/12/22/blog.png)\n"
   ],
   "metadata": {
    "collapsed": false
   }
  },
  {
   "cell_type": "markdown",
   "source": [
    "### NoSQL databases"
   ],
   "metadata": {
    "collapsed": false
   }
  },
  {
   "cell_type": "markdown",
   "source": [
    "- key-value : Redis\n",
    "- graph : Neo4j\n",
    "- document oriented : MongoDB"
   ],
   "metadata": {
    "collapsed": false
   }
  },
  {
   "cell_type": "markdown",
   "source": [
    "![CleanShot2021-12-22at17.58.41@2x](https://raw.githubusercontent.com/azataiot/images/master/2021/12/22/CleanShot%202021-12-22%20at%2017.58.41@2x.png)"
   ],
   "metadata": {
    "collapsed": false
   }
  },
  {
   "cell_type": "markdown",
   "source": [
    "one collection for users, another one for posts.\n"
   ],
   "metadata": {
    "collapsed": false
   }
  },
  {
   "cell_type": "markdown",
   "source": [
    "## Communication with a SQL database with SQLAlchemy"
   ],
   "metadata": {
    "collapsed": false
   }
  },
  {
   "cell_type": "markdown",
   "source": [
    "![CleanShot2021-12-22at18.03.27](https://raw.githubusercontent.com/azataiot/images/master/2021/12/22/CleanShot%202021-12-22%20at%2018.03.27.png)"
   ],
   "metadata": {
    "collapsed": false
   }
  },
  {
   "cell_type": "code",
   "execution_count": 4,
   "outputs": [
    {
     "name": "stdout",
     "output_type": "stream",
     "text": [
      "Requirement already satisfied: databases[sqlite] in /Users/azat/Library/Caches/pypoetry/virtualenvs/fastapi-data-science-FPk2pAXx-py3.9/lib/python3.9/site-packages (0.5.3)\r\n",
      "Requirement already satisfied: sqlalchemy<1.5,>=1.4 in /Users/azat/Library/Caches/pypoetry/virtualenvs/fastapi-data-science-FPk2pAXx-py3.9/lib/python3.9/site-packages (from databases[sqlite]) (1.4.28)\r\n",
      "Requirement already satisfied: aiosqlite in /Users/azat/Library/Caches/pypoetry/virtualenvs/fastapi-data-science-FPk2pAXx-py3.9/lib/python3.9/site-packages (from databases[sqlite]) (0.17.0)\r\n",
      "Requirement already satisfied: greenlet!=0.4.17 in /Users/azat/Library/Caches/pypoetry/virtualenvs/fastapi-data-science-FPk2pAXx-py3.9/lib/python3.9/site-packages (from sqlalchemy<1.5,>=1.4->databases[sqlite]) (1.1.2)\r\n",
      "Requirement already satisfied: typing_extensions>=3.7.2 in /Users/azat/Library/Caches/pypoetry/virtualenvs/fastapi-data-science-FPk2pAXx-py3.9/lib/python3.9/site-packages (from aiosqlite->databases[sqlite]) (4.0.1)\r\n"
     ]
    }
   ],
   "source": [
    "\n",
    "!pip install 'databases[sqlite]'"
   ],
   "metadata": {
    "collapsed": false,
    "pycharm": {
     "name": "#%%\n"
    }
   }
  },
  {
   "cell_type": "markdown",
   "source": [
    "![CGLn1w](https://raw.githubusercontent.com/azataiot/images/master/2021/12/22/CGLn1w.png)"
   ],
   "metadata": {
    "collapsed": false
   }
  },
  {
   "cell_type": "code",
   "execution_count": 1,
   "metadata": {
    "collapsed": true
   },
   "outputs": [],
   "source": [
    "# models.py\n",
    "\n",
    "from datetime import datetime\n",
    "from typing import Optional\n",
    "import sqlalchemy\n",
    "from pydantic import BaseModel, Field\n",
    "\n",
    "\n",
    "class PostBase(BaseModel):\n",
    "    title: str\n",
    "    content: str\n",
    "    publication_date: datetime = Field(default_factory=datetime.now)\n",
    "\n",
    "\n",
    "class PostPatch(BaseModel):\n",
    "    title: Optional[str] = None\n",
    "    content: Optional[str] = None\n",
    "\n",
    "\n",
    "class PostCreate(PostBase):\n",
    "    pass\n",
    "\n",
    "\n",
    "class PostDB(PostBase):\n",
    "    id: int\n",
    "\n",
    "\n",
    "\"\"\" metadata object: It's role is to keep all the information of a database schema together.\n",
    "This is why you should create it only once in your whole project and always use the same one throughout.\n",
    "\"\"\"\n",
    "metadata = sqlalchemy.MetaData()\n",
    "\n",
    "# we will define a table using the Table class\n",
    "posts = sqlalchemy.Table(\n",
    "    #  first argument is the name of the table, followed by the metadata object.\n",
    "    \"posts\",\n",
    "    metadata,\n",
    "    # we list all the columns that should be defined in our table\n",
    "    # name of the column, followed by its type and a certain number of options.\n",
    "    sqlalchemy.Column(\"id\", sqlalchemy.Integer, primary_key=True, autoincrement=True),\n",
    "    sqlalchemy.Column(\"publication_date\", sqlalchemy.DateTime(), nullable=False),\n",
    "    sqlalchemy.Column(\"title\", sqlalchemy.String(length=255), nullable=False),\n",
    "    sqlalchemy.Column(\"content\", sqlalchemy.Text(), nullable=False)\n",
    ")"
   ]
  },
  {
   "cell_type": "code",
   "execution_count": 12,
   "outputs": [
    {
     "data": {
      "text/plain": "MetaData()"
     },
     "execution_count": 12,
     "metadata": {},
     "output_type": "execute_result"
    }
   ],
   "source": [
    "metadata"
   ],
   "metadata": {
    "collapsed": false,
    "pycharm": {
     "name": "#%%\n"
    }
   }
  },
  {
   "cell_type": "markdown",
   "source": [
    "## Connecting to a database"
   ],
   "metadata": {
    "collapsed": false
   }
  },
  {
   "cell_type": "code",
   "execution_count": 2,
   "outputs": [
    {
     "ename": "NameError",
     "evalue": "name 'sqlalchemy' is not defined",
     "output_type": "error",
     "traceback": [
      "\u001B[0;31m---------------------------------------------------------------------------\u001B[0m",
      "\u001B[0;31mNameError\u001B[0m                                 Traceback (most recent call last)",
      "\u001B[0;32m/var/folders/kx/brzbwt857jb3hfwp1s9wm29c0000gn/T/ipykernel_39031/1078431230.py\u001B[0m in \u001B[0;36m<module>\u001B[0;34m\u001B[0m\n\u001B[1;32m      9\u001B[0m \u001B[0mdatabase\u001B[0m \u001B[0;34m=\u001B[0m \u001B[0mDatabase\u001B[0m\u001B[0;34m(\u001B[0m\u001B[0mDATABASE_URL\u001B[0m\u001B[0;34m)\u001B[0m\u001B[0;34m\u001B[0m\u001B[0;34m\u001B[0m\u001B[0m\n\u001B[1;32m     10\u001B[0m \u001B[0;31m# We also define sqlalchemy_engine, which is the standard synchronous connection object provided by SQLAlchemy\u001B[0m\u001B[0;34m\u001B[0m\u001B[0;34m\u001B[0m\u001B[0m\n\u001B[0;32m---> 11\u001B[0;31m \u001B[0msqlalchemy_engine\u001B[0m \u001B[0;34m=\u001B[0m \u001B[0msqlalchemy\u001B[0m\u001B[0;34m.\u001B[0m\u001B[0mcreate_engine\u001B[0m\u001B[0;34m(\u001B[0m\u001B[0mDATABASE_URL\u001B[0m\u001B[0;34m)\u001B[0m\u001B[0;34m\u001B[0m\u001B[0;34m\u001B[0m\u001B[0m\n\u001B[0m\u001B[1;32m     12\u001B[0m \u001B[0;34m\u001B[0m\u001B[0m\n\u001B[1;32m     13\u001B[0m \u001B[0;34m\u001B[0m\u001B[0m\n",
      "\u001B[0;31mNameError\u001B[0m: name 'sqlalchemy' is not defined"
     ]
    }
   ],
   "source": [
    "from databases import Database\n",
    "\n",
    "# database.py\n",
    "\n",
    "# database engine, followed by authentication information and the hostname of the database server.\n",
    "DATABASE_URL = \"sqlite:///./db.data\"\n",
    "# we instantiate a Database instance using this URL.\n",
    "# This is the connection layer provided by databases that will allow us to perform asynchronous queries.\n",
    "database = Database(DATABASE_URL)\n",
    "# We also define sqlalchemy_engine, which is the standard synchronous connection object provided by SQLAlchemy\n",
    "sqlalchemy_engine = sqlalchemy.create_engine(DATABASE_URL)\n",
    "\n",
    "\n",
    "# we define a simple function whose role is to simply return the database instance.\n"
   ],
   "metadata": {
    "collapsed": false,
    "pycharm": {
     "name": "#%%\n"
    }
   }
  },
  {
   "cell_type": "code",
   "execution_count": 7,
   "outputs": [],
   "source": [
    "def get_database() -> Database:\n",
    "    return database"
   ],
   "metadata": {
    "collapsed": false,
    "pycharm": {
     "name": "#%%\n"
    }
   }
  },
  {
   "cell_type": "code",
   "execution_count": 8,
   "outputs": [
    {
     "ename": "NameError",
     "evalue": "name 'PostDB' is not defined",
     "output_type": "error",
     "traceback": [
      "\u001B[0;31m---------------------------------------------------------------------------\u001B[0m",
      "\u001B[0;31mNameError\u001B[0m                                 Traceback (most recent call last)",
      "\u001B[0;32m/var/folders/kx/brzbwt857jb3hfwp1s9wm29c0000gn/T/ipykernel_39031/561291631.py\u001B[0m in \u001B[0;36m<module>\u001B[0;34m\u001B[0m\n\u001B[1;32m     31\u001B[0m async def get_post_or_404(\n\u001B[1;32m     32\u001B[0m         \u001B[0mpost_id\u001B[0m\u001B[0;34m:\u001B[0m \u001B[0mint\u001B[0m\u001B[0;34m,\u001B[0m \u001B[0mdatabase\u001B[0m\u001B[0;34m:\u001B[0m \u001B[0mDatabase\u001B[0m \u001B[0;34m=\u001B[0m \u001B[0mDepends\u001B[0m\u001B[0;34m(\u001B[0m\u001B[0mget_database\u001B[0m\u001B[0;34m)\u001B[0m\u001B[0;34m\u001B[0m\u001B[0;34m\u001B[0m\u001B[0m\n\u001B[0;32m---> 33\u001B[0;31m ) -> PostDB:\n\u001B[0m\u001B[1;32m     34\u001B[0m     \u001B[0mselect_query\u001B[0m \u001B[0;34m=\u001B[0m \u001B[0mposts\u001B[0m\u001B[0;34m.\u001B[0m\u001B[0mselect\u001B[0m\u001B[0;34m(\u001B[0m\u001B[0;34m)\u001B[0m\u001B[0;34m.\u001B[0m\u001B[0mwhere\u001B[0m\u001B[0;34m(\u001B[0m\u001B[0mposts\u001B[0m\u001B[0;34m.\u001B[0m\u001B[0mc\u001B[0m\u001B[0;34m.\u001B[0m\u001B[0mid\u001B[0m \u001B[0;34m==\u001B[0m \u001B[0mpost_id\u001B[0m\u001B[0;34m)\u001B[0m\u001B[0;34m\u001B[0m\u001B[0;34m\u001B[0m\u001B[0m\n\u001B[1;32m     35\u001B[0m     \u001B[0mraw_post\u001B[0m \u001B[0;34m=\u001B[0m \u001B[0;32mawait\u001B[0m \u001B[0mdatabase\u001B[0m\u001B[0;34m.\u001B[0m\u001B[0mfetch_one\u001B[0m\u001B[0;34m(\u001B[0m\u001B[0mselect_query\u001B[0m\u001B[0;34m)\u001B[0m\u001B[0;34m\u001B[0m\u001B[0;34m\u001B[0m\u001B[0m\n",
      "\u001B[0;31mNameError\u001B[0m: name 'PostDB' is not defined"
     ]
    }
   ],
   "source": [
    "# app.py\n",
    "from typing import Optional, Tuple, List\n",
    "from fastapi import FastAPI, status, Depends, Query, HTTPException\n",
    "\n",
    "app = FastAPI()\n",
    "\n",
    "\n",
    "# Decorating functions with the on_event decorators allows us to trigger some useful logic when FastAPI starts or stops.\n",
    "@app.on_event(\"startup\")\n",
    "async def startup():\n",
    "    # This will ensure that the database connection is open and ready to process requests.\n",
    "    await get_database().connect()\n",
    "    # The goal of this method is to create the table's schema inside our database.\n",
    "    # This method is designed to work with a standard SQLAlchemy engine; this is why we instantiated it earlier.\n",
    "    metadata.create_all(sqlalchemy_engine)\n",
    "\n",
    "\n",
    "@app.on_event(\"shutdown\")\n",
    "async def shutdown():\n",
    "    await get_database().disconnect()\n",
    "\n",
    "\n",
    "async def get_pagination(\n",
    "        skip: int = Query(0, ge=0),\n",
    "        limit: int = Query(10, ge=10)\n",
    ") -> Tuple[int, int]:\n",
    "    capped_limit = min(100, limit)\n",
    "    return skip, capped_limit\n",
    "\n",
    "\n",
    "async def get_post_or_404(\n",
    "        post_id: int, database: Database = Depends(get_database)\n",
    ") -> PostDB:\n",
    "    select_query = posts.select().where(posts.c.id == post_id)\n",
    "    raw_post = await database.fetch_one(select_query)\n",
    "\n",
    "    if raw_post is None:\n",
    "        raise HTTPException(status_code=status.HTTP_404_NOT_FOUND)\n",
    "    return PostDB(**raw_post)\n",
    "\n",
    "\n",
    "@app.get(\"/posts\")\n",
    "async def list_posts(\n",
    "        pagination: Tuple[int, int] = Depends(get_pagination),\n",
    "        database: Database = Depends(get_database),\n",
    ") -> List[PostDB]:\n",
    "    skip, limit = pagination\n",
    "    select_query = posts.select().offset(skip).limit(limit)\n",
    "    rows = await database.fetch_all(select_query)\n",
    "    results = [PostDB(**row) for row in rows]\n",
    "    return results\n",
    "\n",
    "\n",
    "@app.get(\"/posts/{id}\")\n",
    "async def get_post(post: PostDB = Depends(get_post_or_404)) -> PostDB:\n",
    "    return post\n",
    "\n",
    "\n",
    "@app.post(\"/posts\", response_model=PostDB, status_code=status.HTTP_201_CREATED)\n",
    "async def create_post(\n",
    "        post: PostCreate,\n",
    "        database: Database = Depends(get_database),\n",
    ") -> PostDB:\n",
    "    # we rely on the SQLAlchemy expression language, which consists of chained method calls\n",
    "    # This query is built directly from the posts object, which is the Table instance that we defined earlier.\n",
    "    insert_query = posts.insert().values(post.dict())\n",
    "    # Thanks to database, we can execute it asynchronously.\n",
    "    post_id = await database.execute(insert_query)  #An INSERT query will return the id of the newly inserted row.\n",
    "    post_db = await get_post_or_404(post_id, database)\n",
    "    return post_db\n",
    "\n",
    "\n",
    "@app.patch(\"/posts/{id}\", response_model=PostDB)\n",
    "async def update_post(\n",
    "        post_update: PostPatch,\n",
    "        post: PostDB = Depends(get_post_or_404),\n",
    "        database: Database = Depends(get_database)\n",
    ") -> PostDB:\n",
    "    update_query = (\n",
    "        posts.update().where(posts.id == id).values(post_update.dict(exclude_unset=True))\n",
    "    )\n",
    "    post_id = await database.execute(update_query)\n",
    "    post_db = await get_post_or_404(post_id, database)\n",
    "    return post_db\n",
    "\n",
    "\n",
    "@app.delete(\"/posts/{id}\", status_code=status.HTTP_204_NO_CONTENT)\n",
    "async def delete_post(post: PostDB = Depends(get_post_or_404), database: Database = Depends(get_database)):\n",
    "    delete_query = posts.delete().where(posts.c.id == post.id)\n",
    "    await database.execute(delete_query)"
   ],
   "metadata": {
    "collapsed": false,
    "pycharm": {
     "name": "#%%\n"
    }
   }
  },
  {
   "cell_type": "markdown",
   "source": [
    "## Making Select Queries"
   ],
   "metadata": {
    "collapsed": false
   }
  },
  {
   "cell_type": "code",
   "execution_count": 9,
   "outputs": [
    {
     "ename": "NameError",
     "evalue": "name 'PostDB' is not defined",
     "output_type": "error",
     "traceback": [
      "\u001B[0;31m---------------------------------------------------------------------------\u001B[0m",
      "\u001B[0;31mNameError\u001B[0m                                 Traceback (most recent call last)",
      "\u001B[0;32m/var/folders/kx/brzbwt857jb3hfwp1s9wm29c0000gn/T/ipykernel_39031/3638432461.py\u001B[0m in \u001B[0;36m<module>\u001B[0;34m\u001B[0m\n\u001B[1;32m      3\u001B[0m         \u001B[0mpagination\u001B[0m\u001B[0;34m:\u001B[0m \u001B[0mTuple\u001B[0m\u001B[0;34m[\u001B[0m\u001B[0mint\u001B[0m\u001B[0;34m,\u001B[0m \u001B[0mint\u001B[0m\u001B[0;34m]\u001B[0m \u001B[0;34m=\u001B[0m \u001B[0mDepends\u001B[0m\u001B[0;34m(\u001B[0m\u001B[0mget_pagination\u001B[0m\u001B[0;34m)\u001B[0m\u001B[0;34m,\u001B[0m\u001B[0;34m\u001B[0m\u001B[0;34m\u001B[0m\u001B[0m\n\u001B[1;32m      4\u001B[0m         \u001B[0mdatabase\u001B[0m\u001B[0;34m:\u001B[0m \u001B[0mDatabase\u001B[0m \u001B[0;34m=\u001B[0m \u001B[0mDepends\u001B[0m\u001B[0;34m(\u001B[0m\u001B[0mget_database\u001B[0m\u001B[0;34m)\u001B[0m\u001B[0;34m,\u001B[0m\u001B[0;34m\u001B[0m\u001B[0;34m\u001B[0m\u001B[0m\n\u001B[0;32m----> 5\u001B[0;31m ) -> List[PostDB]:\n\u001B[0m\u001B[1;32m      6\u001B[0m     \u001B[0mskip\u001B[0m\u001B[0;34m,\u001B[0m \u001B[0mlimit\u001B[0m \u001B[0;34m=\u001B[0m \u001B[0mpagination\u001B[0m\u001B[0;34m\u001B[0m\u001B[0;34m\u001B[0m\u001B[0m\n\u001B[1;32m      7\u001B[0m     \u001B[0mselect_query\u001B[0m \u001B[0;34m=\u001B[0m \u001B[0mposts\u001B[0m\u001B[0;34m.\u001B[0m\u001B[0mselect\u001B[0m\u001B[0;34m(\u001B[0m\u001B[0;34m)\u001B[0m\u001B[0;34m.\u001B[0m\u001B[0moffset\u001B[0m\u001B[0;34m(\u001B[0m\u001B[0mskip\u001B[0m\u001B[0;34m)\u001B[0m\u001B[0;34m.\u001B[0m\u001B[0mlimit\u001B[0m\u001B[0;34m(\u001B[0m\u001B[0mlimit\u001B[0m\u001B[0;34m)\u001B[0m\u001B[0;34m\u001B[0m\u001B[0;34m\u001B[0m\u001B[0m\n",
      "\u001B[0;31mNameError\u001B[0m: name 'PostDB' is not defined"
     ]
    }
   ],
   "source": [
    "@app.get(\"/posts\")\n",
    "async def list_posts(\n",
    "        pagination: Tuple[int, int] = Depends(get_pagination),\n",
    "        database: Database = Depends(get_database),\n",
    ") -> List[PostDB]:\n",
    "    skip, limit = pagination\n",
    "    select_query = posts.select().offset(skip).limit(limit)\n",
    "    # we execute this query with the fetch_all method of database. This method will return a list of rows that match our query\n",
    "    # Each row is returned to the form of a dictionary that associates column names and their values.\n",
    "    rows = await database.fetch_all(select_query)\n",
    "\n",
    "    results = [PostDB(**row) for row in rows]\n",
    "    return results"
   ],
   "metadata": {
    "collapsed": false,
    "pycharm": {
     "name": "#%%\n"
    }
   }
  },
  {
   "cell_type": "code",
   "execution_count": null,
   "outputs": [],
   "source": [
    "# get a single object\n",
    "\n",
    "@app.get(\"posts/{id}\")\n",
    "async def get_post(post: PostDB = Depends(get_post_or_404)) -> PostDB:\n",
    "    return post"
   ],
   "metadata": {
    "collapsed": false,
    "pycharm": {
     "name": "#%%\n"
    }
   }
  },
  {
   "cell_type": "code",
   "execution_count": null,
   "outputs": [],
   "source": [
    "async def get_post_or_404(\n",
    "        # you have to provide every argument manually since you are outside the dependency injection context.\n",
    "        post_id: int, database: Database = Depends(get_database)\n",
    ") -> PostDB:\n",
    "    # The first part is to set the actual column we want to compare.\n",
    "    # Each column is accessible via its name from the c attribute of the table object, that is, posts.c.id\n",
    "    select_query = posts.select().where(posts.c.id == post_id)\n",
    "    # Then, we simply call fetch_one on the database object.\n",
    "    # It's a convenient shortcut when we only expect one row at most.\n",
    "    raw_post = await database.fetch_one(select_query)\n",
    "\n",
    "    if raw_post is None:\n",
    "        raise HTTPException(status_code=status.HTTP_404_NOT_FOUND)\n",
    "    return PostDB(**raw_post)"
   ],
   "metadata": {
    "collapsed": false,
    "pycharm": {
     "name": "#%%\n"
    }
   }
  },
  {
   "cell_type": "markdown",
   "source": [
    "## Making Update and delete Queries"
   ],
   "metadata": {
    "collapsed": false
   }
  },
  {
   "cell_type": "code",
   "execution_count": null,
   "outputs": [],
   "source": [
    "@app.patch(\"/posts/{id}\", response_model=PostDB)\n",
    "async def update_post(\n",
    "        post_update: PostPatch,\n",
    "        post: PostDB = Depends(get_post_or_404),\n",
    "        database: Database = Depends(get_database)\n",
    ") -> PostDB:\n",
    "    update_query = (\n",
    "        # we add a WHERE clause to only match the post we want to update.\n",
    "        # since we are doing a partial update here,\n",
    "        # you can see that we use the exclude_unset option to only get the values to update.\n",
    "        posts.update().where(posts.id == id).values(post_update.dict(exclude_unset=True))\n",
    "    )\n",
    "    post_id = await database.execute(update_query)\n",
    "    post_db = await get_post_or_404(post_id, database)\n",
    "    return post_db"
   ],
   "metadata": {
    "collapsed": false,
    "pycharm": {
     "name": "#%%\n"
    }
   }
  },
  {
   "cell_type": "markdown",
   "source": [
    "## Adding relationships"
   ],
   "metadata": {
    "collapsed": false,
    "pycharm": {
     "name": "#%% md\n"
    }
   }
  },
  {
   "cell_type": "markdown",
   "source": [
    "relational databases are all about data and its relationships.\n"
   ],
   "metadata": {
    "collapsed": false
   }
  },
  {
   "cell_type": "code",
   "execution_count": 3,
   "outputs": [
    {
     "ename": "NameError",
     "evalue": "name 'metadata' is not defined",
     "output_type": "error",
     "traceback": [
      "\u001B[0;31m---------------------------------------------------------------------------\u001B[0m",
      "\u001B[0;31mNameError\u001B[0m                                 Traceback (most recent call last)",
      "\u001B[0;32m/var/folders/kx/brzbwt857jb3hfwp1s9wm29c0000gn/T/ipykernel_3163/2281880656.py\u001B[0m in \u001B[0;36m<module>\u001B[0;34m\u001B[0m\n\u001B[1;32m      4\u001B[0m comments = sql.Table(\n\u001B[1;32m      5\u001B[0m     \u001B[0;34m\"comments\"\u001B[0m\u001B[0;34m,\u001B[0m\u001B[0;34m\u001B[0m\u001B[0;34m\u001B[0m\u001B[0m\n\u001B[0;32m----> 6\u001B[0;31m     \u001B[0mmetadata\u001B[0m\u001B[0;34m,\u001B[0m\u001B[0;34m\u001B[0m\u001B[0;34m\u001B[0m\u001B[0m\n\u001B[0m\u001B[1;32m      7\u001B[0m     \u001B[0msql\u001B[0m\u001B[0;34m.\u001B[0m\u001B[0mColumn\u001B[0m\u001B[0;34m(\u001B[0m\u001B[0;34m\"id\"\u001B[0m\u001B[0;34m,\u001B[0m \u001B[0msql\u001B[0m\u001B[0;34m.\u001B[0m\u001B[0mInteger\u001B[0m\u001B[0;34m,\u001B[0m \u001B[0mprimary_key\u001B[0m\u001B[0;34m=\u001B[0m\u001B[0;32mTrue\u001B[0m\u001B[0;34m,\u001B[0m \u001B[0mautoincrement\u001B[0m\u001B[0;34m=\u001B[0m\u001B[0;32mTrue\u001B[0m\u001B[0;34m)\u001B[0m\u001B[0;34m,\u001B[0m\u001B[0;34m\u001B[0m\u001B[0;34m\u001B[0m\u001B[0m\n\u001B[1;32m      8\u001B[0m     \u001B[0msql\u001B[0m\u001B[0;34m.\u001B[0m\u001B[0mColumn\u001B[0m\u001B[0;34m(\u001B[0m\u001B[0;34m\"post_id\"\u001B[0m\u001B[0;34m,\u001B[0m \u001B[0msql\u001B[0m\u001B[0;34m.\u001B[0m\u001B[0mForeignKey\u001B[0m\u001B[0;34m(\u001B[0m\u001B[0;34m\"posts.id\"\u001B[0m\u001B[0;34m,\u001B[0m \u001B[0mondelete\u001B[0m\u001B[0;34m=\u001B[0m\u001B[0;34m\"CASCADE\"\u001B[0m\u001B[0;34m)\u001B[0m\u001B[0;34m,\u001B[0m \u001B[0mnullable\u001B[0m\u001B[0;34m=\u001B[0m\u001B[0;32mFalse\u001B[0m\u001B[0;34m)\u001B[0m\u001B[0;34m,\u001B[0m\u001B[0;34m\u001B[0m\u001B[0;34m\u001B[0m\u001B[0m\n",
      "\u001B[0;31mNameError\u001B[0m: name 'metadata' is not defined"
     ]
    }
   ],
   "source": [
    "# models.py\n",
    "import sqlalchemy as sql\n",
    "\n",
    "comments = sql.Table(\n",
    "    \"comments\",\n",
    "    metadata,\n",
    "    sql.Column(\"id\", sql.Integer, primary_key=True, autoincrement=True),\n",
    "    sql.Column(\"post_id\", sql.ForeignKey(\"posts.id\", ondelete=\"CASCADE\"), nullable=False),\n",
    "    sql.Column(\"publication_date\", sql.DateTime(), nullable=False),\n",
    "    sql.Column(\"content\", sql.Text(), nullable=False),\n",
    ")"
   ],
   "metadata": {
    "collapsed": false,
    "pycharm": {
     "name": "#%%\n"
    }
   }
  },
  {
   "cell_type": "code",
   "execution_count": null,
   "outputs": [],
   "source": [
    "# pydantic models of the Comments\n",
    "from datetime import datetime\n",
    "from typing import Optional\n",
    "from pydantic import BaseModel, Field\n",
    "\n",
    "\n",
    "class CommentBase(BaseModel):\n",
    "    post_id: int\n",
    "    publication_date: datetime = Field(default_factory=datetime.now)\n",
    "    content: str\n",
    "\n",
    "\n",
    "class CommentCreate(CommentBase):\n",
    "    pass\n",
    "\n",
    "\n",
    "class CommentDB(CommentBase):\n",
    "    id: int\n",
    "\n",
    "\n",
    "class CommentUpdate(BaseModel):\n",
    "    content: Optional[str] = None\n"
   ],
   "metadata": {
    "collapsed": false,
    "pycharm": {
     "name": "#%%\n"
    }
   }
  },
  {
   "cell_type": "code",
   "execution_count": null,
   "outputs": [],
   "source": [
    "from typing import List\n",
    "from pydantic import BaseModel\n",
    "\n",
    "\n",
    "class PostBase(BaseModel):\n",
    "    title: str\n",
    "    content: str\n",
    "    publication_date: datetime = Field(default_factory=datetime.now)\n",
    "\n",
    "\n",
    "class PostUpdate(BaseModel):\n",
    "    title: Optional[str] = None\n",
    "    content: Optional[str] = None\n",
    "\n",
    "\n",
    "class PostCreate(PostBase):\n",
    "    pass\n",
    "\n",
    "\n",
    "class PostDB(PostBase):\n",
    "    id: int\n",
    "\n",
    "\n",
    "# Here, it'll be convenient to get the comments of a post in a single request.\n",
    "# We'll use this model when getting a single post to serialize the comments along with the post data.\n",
    "class PostPublic(PostBase):\n",
    "    comments: List[CommentDB]"
   ],
   "metadata": {
    "collapsed": false,
    "pycharm": {
     "name": "#%%\n"
    }
   }
  },
  {
   "cell_type": "code",
   "execution_count": null,
   "outputs": [],
   "source": [
    "# create a new comment\n",
    "from typing import cast, Mapping\n",
    "\n",
    "\n",
    "@app.post(\"/comments\", response_model=CommentDB, status_code=status.HTTP_201_CREATED)\n",
    "async def create_comment(\n",
    "        comment: CommentCreate,\n",
    "        database: Database = Depends(get_database),\n",
    ") -> CommentDB:\n",
    "    # The only difference here is the first part of the function logic where\n",
    "    # we check for the existence of the post before proceeding with the comment creation.\n",
    "    select_post_query = posts.select().where(posts.c.id == comment.post_id)\n",
    "    post = await database.fetch_one(select_post_query)\n",
    "\n",
    "    if post is None:\n",
    "        raise HTTPException(\n",
    "            status_code=status.HTTP_400_BAD_REQUEST,\n",
    "            detail=f\"Post {id} dose not exist.\"\n",
    "        )\n",
    "\n",
    "    insert_query = comments.insert().values(comment.dict())\n",
    "    comment_id = database.execute(insert_query)\n",
    "\n",
    "    select_query = comments.select().where(comments.c.id == comment_id)\n",
    "    raw_coment = cast(Mapping, await database.fetch_one(select_query))\n",
    "    return CommentDB(**raw_coment)"
   ],
   "metadata": {
    "collapsed": false,
    "pycharm": {
     "name": "#%%\n"
    }
   }
  },
  {
   "cell_type": "code",
   "execution_count": null,
   "outputs": [],
   "source": [
    "def get_post_or_404(\n",
    "        id: int, database: Database = Depends(get_database),\n",
    ") -> PostPublic:\n",
    "    select_post_query = posts.select().where(posts.c.id == id)\n",
    "    raw_post = await database.fetch_one(select_post_query)\n",
    "\n",
    "    if raw_post is None:\n",
    "        raise HTTPException(\n",
    "            status_code=status.HTTP_404_NOT_FOUND\n",
    "        )\n",
    "\n",
    "\n",
    "    # Here, you can see that we simply add a fetch_all query with the correct WHERE\n",
    "    # statement to collect the comments associated with the post.\n",
    "    select_post_comments_query = comments.select().where(comments.c.post_id == id)\n",
    "    raw_comments = await database.fetch_all(select_post_comments_query)\n",
    "\n",
    "    comments_list = [CommentDB(**comment) for comment in raw_comments]\n",
    "\n",
    "    return PostPublic(**raw_post, comments=comments_list)"
   ],
   "metadata": {
    "collapsed": false,
    "pycharm": {
     "name": "#%%\n"
    }
   }
  },
  {
   "cell_type": "markdown",
   "source": [
    "## Setting up a database migration systen with alembic"
   ],
   "metadata": {
    "collapsed": false
   }
  },
  {
   "cell_type": "code",
   "execution_count": 1,
   "outputs": [],
   "source": [
    "# going to include the app with a submodule"
   ],
   "metadata": {
    "collapsed": false,
    "pycharm": {
     "name": "#%%\n"
    }
   }
  },
  {
   "cell_type": "code",
   "execution_count": null,
   "outputs": [],
   "source": [],
   "metadata": {
    "collapsed": false,
    "pycharm": {
     "name": "#%%\n"
    }
   }
  },
  {
   "cell_type": "markdown",
   "source": [
    "Current updated structure of the app.\n",
    "\n",
    "``` bash\n",
    ".─ tree\n",
    "├── LICENSE\n",
    "├── README.md\n",
    "├── __init__.py\n",
    "├── alembic\n",
    "│   ├── README\n",
    "│   ├── env.py\n",
    "│   ├── script.py.mako\n",
    "│   └── versions\n",
    "├── alembic.ini\n",
    "├── app.py\n",
    "├── database.py\n",
    "├── models\n",
    "│   ├── __init__.py\n",
    "│   ├── comment.py\n",
    "│   └── post.py\n",
    "├── models.py\n",
    "├── poetry.lock\n",
    "└── pyproject.toml\n",
    "\n",
    "```\n",
    "\n",
    "It is somehow different from the one on the original app."
   ],
   "metadata": {
    "collapsed": false
   }
  },
  {
   "cell_type": "markdown",
   "source": [
    "![5gQjWk](https://raw.githubusercontent.com/azataiot/images/master/2021/12/23/5gQjWk.png)"
   ],
   "metadata": {
    "collapsed": false
   }
  },
  {
   "cell_type": "markdown",
   "source": [
    "I think it is a nice idea to create a models package in the project and place all models (including schematics) of one Class inside it's own python file.\n",
    "making that each of the <name>.py file inside the modules package becomes an class like those in the java or the c#\n"
   ],
   "metadata": {
    "collapsed": false
   }
  },
  {
   "cell_type": "markdown",
   "source": [
    "alembic.ini file, which contains all the configuration options of Alembic."
   ],
   "metadata": {
    "collapsed": false
   }
  },
  {
   "cell_type": "code",
   "execution_count": 2,
   "outputs": [],
   "source": [
    "# [alembic]\n",
    "# # path to migration scripts\n",
    "# script_location = alembic"
   ],
   "metadata": {
    "collapsed": false,
    "pycharm": {
     "name": "#%%\n"
    }
   }
  },
  {
   "cell_type": "markdown",
   "source": [
    "This setting expects the path of the alembic directory containing the migration files.\n",
    "In most of your projects, this will just be alembic, because it'll simply be at the root of your project."
   ],
   "metadata": {
    "collapsed": false
   }
  },
  {
   "cell_type": "markdown",
   "source": [
    "![S0Lpmf](https://raw.githubusercontent.com/azataiot/images/master/2021/12/23/S0Lpmf.png)"
   ],
   "metadata": {
    "collapsed": false
   }
  },
  {
   "cell_type": "code",
   "execution_count": 3,
   "outputs": [],
   "source": [
    "# sqlalchemy.url = sqlite:///./app.db"
   ],
   "metadata": {
    "collapsed": false,
    "pycharm": {
     "name": "#%%\n"
    }
   }
  },
  {
   "cell_type": "markdown",
   "source": [
    "For alembic sqlalchemy.url i just placed the same for database.py DB_URL"
   ],
   "metadata": {
    "collapsed": false
   }
  },
  {
   "cell_type": "code",
   "execution_count": 4,
   "outputs": [],
   "source": [
    "# we also imported the metadata from the app.py to the env.py of for the alembic.\n",
    "\n",
    "# import the metadata object.\n",
    "# from database import metadata"
   ],
   "metadata": {
    "collapsed": false,
    "pycharm": {
     "name": "#%%\n"
    }
   }
  },
  {
   "cell_type": "code",
   "execution_count": 6,
   "outputs": [],
   "source": [
    "# and then we changed the target to the metadata (that was None)"
   ],
   "metadata": {
    "collapsed": false,
    "pycharm": {
     "name": "#%%\n"
    }
   }
  },
  {
   "cell_type": "markdown",
   "source": [
    "```\n",
    "# add your model's MetaData object here\n",
    "# for 'autogenerate' support\n",
    "# from myapp import mymodel\n",
    "# target_metadata = mymodel.Base.metadata\n",
    "target_metadata = metadata\n",
    "```"
   ],
   "metadata": {
    "collapsed": false
   }
  },
  {
   "cell_type": "markdown",
   "source": [
    "Now we will generate a new migration script\n",
    "\n",
    "\n",
    "generate a new migration script"
   ],
   "metadata": {
    "collapsed": false
   }
  },
  {
   "cell_type": "markdown",
   "source": [
    "Made things work"
   ],
   "metadata": {
    "collapsed": false
   }
  },
  {
   "cell_type": "markdown",
   "source": [
    "![CleanShot2021-12-23at14.00.09@2x](https://raw.githubusercontent.com/azataiot/images/master/2021/12/23/CleanShot%202021-12-23%20at%2014.00.09@2x.png)"
   ],
   "metadata": {
    "collapsed": false
   }
  },
  {
   "cell_type": "markdown",
   "source": [
    "After researching i got that, first we have to create the metadata object only once inside the database.py.\n",
    "\n",
    "then we use it everywhere like in the modules like in the app.py\n",
    "\n",
    "\n",
    "then the two commands are helpful:\n",
    "\n",
    "- `alembic revision --autogenerate -m \"Initial migration\"`\n",
    "- `alembic upgrade head`\n",
    "\n",
    "\n",
    "and for submodules :\n",
    "- `git submodule update --recursive --remote`"
   ],
   "metadata": {
    "collapsed": false
   }
  },
  {
   "cell_type": "code",
   "execution_count": null,
   "outputs": [],
   "source": [],
   "metadata": {
    "collapsed": false,
    "pycharm": {
     "name": "#%%\n"
    }
   }
  }
 ],
 "metadata": {
  "kernelspec": {
   "display_name": "Python 3",
   "language": "python",
   "name": "python3"
  },
  "language_info": {
   "codemirror_mode": {
    "name": "ipython",
    "version": 2
   },
   "file_extension": ".py",
   "mimetype": "text/x-python",
   "name": "python",
   "nbconvert_exporter": "python",
   "pygments_lexer": "ipython2",
   "version": "2.7.6"
  }
 },
 "nbformat": 4,
 "nbformat_minor": 0
}