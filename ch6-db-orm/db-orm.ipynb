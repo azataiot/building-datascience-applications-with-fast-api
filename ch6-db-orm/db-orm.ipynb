{
 "cells": [
  {
   "cell_type": "markdown",
   "source": [
    "# Databases and ORM"
   ],
   "metadata": {
    "collapsed": false
   }
  },
  {
   "cell_type": "markdown",
   "source": [
    "## Relational Database"
   ],
   "metadata": {
    "collapsed": false
   }
  },
  {
   "cell_type": "markdown",
   "source": [
    "A key in the same table that is a primary key, if we reference this key on another table, then that is a foreign key.\n"
   ],
   "metadata": {
    "collapsed": false
   }
  },
  {
   "cell_type": "markdown",
   "source": [
    "![blog](https://raw.githubusercontent.com/azataiot/images/master/2021/12/22/blog.png)\n"
   ],
   "metadata": {
    "collapsed": false
   }
  },
  {
   "cell_type": "markdown",
   "source": [
    "### NoSQL databases"
   ],
   "metadata": {
    "collapsed": false
   }
  },
  {
   "cell_type": "markdown",
   "source": [
    "- key-value : Redis\n",
    "- graph : Neo4j\n",
    "- document oriented : MongoDB"
   ],
   "metadata": {
    "collapsed": false
   }
  },
  {
   "cell_type": "markdown",
   "source": [
    "![CleanShot2021-12-22at17.58.41@2x](https://raw.githubusercontent.com/azataiot/images/master/2021/12/22/CleanShot%202021-12-22%20at%2017.58.41@2x.png)"
   ],
   "metadata": {
    "collapsed": false
   }
  },
  {
   "cell_type": "markdown",
   "source": [
    "one collection for users, another one for posts.\n"
   ],
   "metadata": {
    "collapsed": false
   }
  },
  {
   "cell_type": "markdown",
   "source": [
    "## Communication with a SQL database with SQLAlchemy"
   ],
   "metadata": {
    "collapsed": false
   }
  },
  {
   "cell_type": "markdown",
   "source": [
    "![CleanShot2021-12-22at18.03.27](https://raw.githubusercontent.com/azataiot/images/master/2021/12/22/CleanShot%202021-12-22%20at%2018.03.27.png)"
   ],
   "metadata": {
    "collapsed": false
   }
  },
  {
   "cell_type": "code",
   "execution_count": 4,
   "outputs": [
    {
     "name": "stdout",
     "output_type": "stream",
     "text": [
      "Requirement already satisfied: databases[sqlite] in /Users/azat/Library/Caches/pypoetry/virtualenvs/fastapi-data-science-FPk2pAXx-py3.9/lib/python3.9/site-packages (0.5.3)\r\n",
      "Requirement already satisfied: sqlalchemy<1.5,>=1.4 in /Users/azat/Library/Caches/pypoetry/virtualenvs/fastapi-data-science-FPk2pAXx-py3.9/lib/python3.9/site-packages (from databases[sqlite]) (1.4.28)\r\n",
      "Requirement already satisfied: aiosqlite in /Users/azat/Library/Caches/pypoetry/virtualenvs/fastapi-data-science-FPk2pAXx-py3.9/lib/python3.9/site-packages (from databases[sqlite]) (0.17.0)\r\n",
      "Requirement already satisfied: greenlet!=0.4.17 in /Users/azat/Library/Caches/pypoetry/virtualenvs/fastapi-data-science-FPk2pAXx-py3.9/lib/python3.9/site-packages (from sqlalchemy<1.5,>=1.4->databases[sqlite]) (1.1.2)\r\n",
      "Requirement already satisfied: typing_extensions>=3.7.2 in /Users/azat/Library/Caches/pypoetry/virtualenvs/fastapi-data-science-FPk2pAXx-py3.9/lib/python3.9/site-packages (from aiosqlite->databases[sqlite]) (4.0.1)\r\n"
     ]
    }
   ],
   "source": [
    "\n",
    "!pip install 'databases[sqlite]'"
   ],
   "metadata": {
    "collapsed": false,
    "pycharm": {
     "name": "#%%\n"
    }
   }
  },
  {
   "cell_type": "markdown",
   "source": [
    "![CGLn1w](https://raw.githubusercontent.com/azataiot/images/master/2021/12/22/CGLn1w.png)"
   ],
   "metadata": {
    "collapsed": false
   }
  },
  {
   "cell_type": "code",
   "execution_count": 11,
   "metadata": {
    "collapsed": true
   },
   "outputs": [],
   "source": [
    "# models.py\n",
    "\n",
    "from datetime import datetime\n",
    "from typing import Optional\n",
    "import sqlalchemy\n",
    "from pydantic import BaseModel, Field\n",
    "\n",
    "\n",
    "class PostBase(BaseModel):\n",
    "    title: str\n",
    "    content: str\n",
    "    publication_date: datetime = Field(default_factory=datetime.now)\n",
    "\n",
    "\n",
    "class PostPatch(BaseModel):\n",
    "    title: Optional[str] = None\n",
    "    content: Optional[str] = None\n",
    "\n",
    "\n",
    "class PostCreate(PostBase):\n",
    "    pass\n",
    "\n",
    "\n",
    "class PostDB(PostBase):\n",
    "    id: int\n",
    "\n",
    "\n",
    "\"\"\" metadata object: It's role is to keep all the information of a database schema together.\n",
    "This is why you should create it only once in your whole project and always use the same one throughout.\n",
    "\"\"\"\n",
    "metadata = sqlalchemy.MetaData()\n",
    "\n",
    "# we will define a table using the Table class\n",
    "posts = sqlalchemy.Table(\n",
    "    #  first argument is the name of the table, followed by the metadata object.\n",
    "    \"posts\",\n",
    "    metadata,\n",
    "    # we list all the columns that should be defined in our table\n",
    "    # name of the column, followed by its type and a certain number of options.\n",
    "    sqlalchemy.Column(\"id\", sqlalchemy.Integer, primary_key=True, autoincrement=True),\n",
    "    sqlalchemy.Column(\"publication_date\", sqlalchemy.DateTime(), nullable=False),\n",
    "    sqlalchemy.Column(\"title\", sqlalchemy.String(length=255), nullable=False),\n",
    "    sqlalchemy.Column(\"content\", sqlalchemy.Text(), nullable=False)\n",
    ")"
   ]
  },
  {
   "cell_type": "code",
   "execution_count": 12,
   "outputs": [
    {
     "data": {
      "text/plain": "MetaData()"
     },
     "execution_count": 12,
     "metadata": {},
     "output_type": "execute_result"
    }
   ],
   "source": [
    "metadata"
   ],
   "metadata": {
    "collapsed": false,
    "pycharm": {
     "name": "#%%\n"
    }
   }
  },
  {
   "cell_type": "markdown",
   "source": [
    "## Connecting to a database"
   ],
   "metadata": {
    "collapsed": false
   }
  },
  {
   "cell_type": "code",
   "execution_count": 14,
   "outputs": [],
   "source": [
    "from databases import Database\n",
    "\n",
    "# database.py\n",
    "\n",
    "# database engine, followed by authentication information and the hostname of the database server.\n",
    "DATABASE_URL = \"sqlite:///./db.data\"\n",
    "# we instantiate a Database instance using this URL.\n",
    "# This is the connection layer provided by databases that will allow us to perform asynchronous queries.\n",
    "database = Database(DATABASE_URL)\n",
    "# We also define sqlalchemy_engine, which is the standard synchronous connection object provided by SQLAlchemy\n",
    "sqlalchemy_engine = sqlalchemy.create_engine(DATABASE_URL)\n",
    "\n",
    "\n",
    "# we define a simple function whose role is to simply return the database instance.\n",
    "def get_database() -> Database:\n",
    "    return database"
   ],
   "metadata": {
    "collapsed": false,
    "pycharm": {
     "name": "#%%\n"
    }
   }
  },
  {
   "cell_type": "code",
   "execution_count": 15,
   "outputs": [
    {
     "data": {
      "text/plain": "<databases.core.Database at 0x105077a00>"
     },
     "execution_count": 15,
     "metadata": {},
     "output_type": "execute_result"
    }
   ],
   "source": [
    "database"
   ],
   "metadata": {
    "collapsed": false,
    "pycharm": {
     "name": "#%%\n"
    }
   }
  },
  {
   "cell_type": "code",
   "execution_count": 17,
   "outputs": [
    {
     "ename": "SyntaxError",
     "evalue": "invalid syntax (2841448751.py, line 2)",
     "output_type": "error",
     "traceback": [
      "\u001B[0;36m  File \u001B[0;32m\"/var/folders/kx/brzbwt857jb3hfwp1s9wm29c0000gn/T/ipykernel_22512/2841448751.py\"\u001B[0;36m, line \u001B[0;32m2\u001B[0m\n\u001B[0;31m    import fastapi from FastAPI()\u001B[0m\n\u001B[0m                   ^\u001B[0m\n\u001B[0;31mSyntaxError\u001B[0m\u001B[0;31m:\u001B[0m invalid syntax\n"
     ]
    }
   ],
   "source": [],
   "metadata": {
    "collapsed": false,
    "pycharm": {
     "name": "#%%\n"
    }
   }
  },
  {
   "cell_type": "code",
   "execution_count": null,
   "outputs": [],
   "source": [],
   "metadata": {
    "collapsed": false,
    "pycharm": {
     "name": "#%%\n"
    }
   }
  }
 ],
 "metadata": {
  "kernelspec": {
   "display_name": "Python 3",
   "language": "python",
   "name": "python3"
  },
  "language_info": {
   "codemirror_mode": {
    "name": "ipython",
    "version": 2
   },
   "file_extension": ".py",
   "mimetype": "text/x-python",
   "name": "python",
   "nbconvert_exporter": "python",
   "pygments_lexer": "ipython2",
   "version": "2.7.6"
  }
 },
 "nbformat": 4,
 "nbformat_minor": 0
}